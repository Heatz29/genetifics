{
  "nbformat": 4,
  "nbformat_minor": 0,
  "metadata": {
    "colab": {
      "provenance": [],
      "authorship_tag": "ABX9TyOyWU10wYe98CF7dRwrjZPQ",
      "include_colab_link": true
    },
    "kernelspec": {
      "name": "python3",
      "display_name": "Python 3"
    },
    "language_info": {
      "name": "python"
    }
  },
  "cells": [
    {
      "cell_type": "markdown",
      "metadata": {
        "id": "view-in-github",
        "colab_type": "text"
      },
      "source": [
        "<a href=\"https://colab.research.google.com/github/NathalyDM/genetifics/blob/main/ImageProcessingTutorials/SegmentationTutorial.ipynb\" target=\"_parent\"><img src=\"https://colab.research.google.com/assets/colab-badge.svg\" alt=\"Open In Colab\"/></a>"
      ]
    },
    {
      "cell_type": "markdown",
      "source": [
        "## **1. Import Libraries**\n"
      ],
      "metadata": {
        "id": "XQbrnBDWlzU9"
      }
    },
    {
      "cell_type": "code",
      "execution_count": null,
      "metadata": {
        "id": "aqawzqXglh61"
      },
      "outputs": [],
      "source": [
        "# Import Necessary Libraries\n",
        "import os\n",
        "import cv2\n",
        "import numpy as np\n",
        "import tensorflow as tf\n",
        "from tensorflow.keras import layers\n",
        "from tensorflow.keras.models import Model\n",
        "from sklearn.metrics import f1_score\n",
        "import matplotlib.pyplot as plt\n",
        "import albumentations as A\n",
        "from sklearn.model_selection import train_test_split\n"
      ]
    },
    {
      "cell_type": "markdown",
      "source": [
        "## **2. Load Data Paths**\n"
      ],
      "metadata": {
        "id": "XOw0NQ3wmOTp"
      }
    },
    {
      "cell_type": "code",
      "source": [
        "# Provided Paths\n",
        "image_paths = ['path_to_image1', 'path_to_image2', ...]  # Replace with actual paths\n",
        "mask_paths = ['path_to_mask1', 'path_to_mask2', ...]  # Replace with actual paths"
      ],
      "metadata": {
        "id": "s-iEpzXNmY3Y"
      },
      "execution_count": null,
      "outputs": []
    },
    {
      "cell_type": "markdown",
      "source": [
        "## **3. Split Data into Training and Validation Sets**"
      ],
      "metadata": {
        "id": "HAeZyDRRIyJh"
      }
    },
    {
      "cell_type": "code",
      "source": [
        "# Split into Training and Testing Sets\n",
        "train_image_paths, val_image_paths, train_mask_paths, val_mask_paths = train_test_split(image_paths, mask_paths, test_size=0.2, random_state=42)"
      ],
      "metadata": {
        "id": "Sjk-eA6UIxlS"
      },
      "execution_count": null,
      "outputs": []
    },
    {
      "cell_type": "markdown",
      "source": [
        "## **4. Define Preprocessing Functions**"
      ],
      "metadata": {
        "id": "RJ5QYgp1moX1"
      }
    },
    {
      "cell_type": "code",
      "source": [
        "# Load and Preprocess\n",
        "def load_and_preprocess(image_path, mask_path, augment=True):\n",
        "    image = cv2.imread(image_path)\n",
        "    mask = cv2.imread(mask_path, cv2.IMREAD_GRAYSCALE)\n",
        "    image = image / 255.0\n",
        "    mask = mask / 255.0\n",
        "\n",
        "    if augment:\n",
        "        augmenter = A.Compose([A.HorizontalFlip(p=0.5), A.VerticalFlip(p=0.5), A.Rotate(limit=90, p=0.5)])\n",
        "        augmented = augmenter(image=image, mask=mask)\n",
        "        image = augmented['image']\n",
        "        mask = augmented['mask']\n",
        "\n",
        "    mask = np.expand_dims(mask, axis=-1)\n",
        "    return image, mask\n",
        "\n",
        "# Data Generator\n",
        "def data_generator(image_paths, mask_paths, batch_size=32, augment=True):\n",
        "    while True:\n",
        "        idxs = np.arange(len(image_paths))\n",
        "        np.random.shuffle(idxs)\n",
        "\n",
        "        for start in range(0, len(image_paths), batch_size):\n",
        "            end = min(start + batch_size, len(image_paths))\n",
        "            batch_idxs = idxs[start:end]\n",
        "\n",
        "            batch_images = []\n",
        "            batch_masks = []\n",
        "\n",
        "            for i in batch_idxs:\n",
        "                image, mask = load_and_preprocess(image_paths[i], mask_paths[i], augment)\n",
        "                batch_images.append(image)\n",
        "                batch_masks.append(mask)\n",
        "\n",
        "            yield np.array(batch_images), np.array(batch_masks)\n"
      ],
      "metadata": {
        "id": "5UynnO8Zmzbl"
      },
      "execution_count": null,
      "outputs": []
    },
    {
      "cell_type": "markdown",
      "source": [
        "## **5. Create Model**"
      ],
      "metadata": {
        "id": "6GwYg_edm7i_"
      }
    },
    {
      "cell_type": "code",
      "source": [
        "def create_segmentation_model(base_model_name, input_shape):\n",
        "    base_model_class = getattr(tf.keras.applications, base_model_name)\n",
        "    base_model = base_model_class(include_top=False, weights='imagenet', input_shape=input_shape)\n",
        "    base_model.trainable = False\n",
        "\n",
        "    x = base_model.output\n",
        "    x = layers.Conv2DTranspose(32, (2, 2), strides=(2, 2), activation='relu')(x)\n",
        "    x = layers.Conv2D(1, (1, 1), activation='sigmoid')(x)\n",
        "\n",
        "    model = Model(inputs=base_model.input, outputs=x)\n",
        "    model.compile(optimizer='adam', loss='binary_crossentropy', metrics=['accuracy'])\n",
        "    return model\n",
        "\n",
        ""
      ],
      "metadata": {
        "id": "NWkZ9FbNm0TB"
      },
      "execution_count": null,
      "outputs": []
    },
    {
      "cell_type": "markdown",
      "source": [
        "## **6. Train Models and Evaluate**"
      ],
      "metadata": {
        "id": "3UqiDbaRnKqB"
      }
    },
    {
      "cell_type": "code",
      "source": [
        "# Define input shape\n",
        "input_shape = (None, None, 3)\n",
        "\n",
        "# List of models to evaluate\n",
        "base_models = ['ResNet50', 'InceptionV3', 'Xception', 'VGG16', 'VGG19']\n",
        "\n",
        "# Initialize dictionaries to store training histories and evaluation scores\n",
        "training_histories = {}\n",
        "evaluation_scores = {}\n",
        "\n",
        "# Train and Evaluate each model\n",
        "for base_model_name in base_models:\n",
        "    print(f\"Training Model: {base_model_name}\")\n",
        "    model = create_segmentation_model(base_model_name, input_shape)\n",
        "\n",
        "    train_gen = data_generator(train_image_paths, train_mask_paths, batch_size=32, augment=True)\n",
        "    steps_per_epoch = len(train_image_paths) // 32\n",
        "    history = model.fit(train_gen, steps_per_epoch=steps_per_epoch, epochs=10)\n",
        "\n",
        "    training_histories[base_model_name] = history.history\n",
        "\n",
        "    val_gen = data_generator(val_image_paths, val_mask_paths, batch_size=32, augment=False)\n",
        "    val_steps = len(val_image_paths) // 32\n",
        "    val_preds = model.predict(val_gen, steps=val_steps)\n",
        "    val_true = np.concatenate([mask for _, mask in data_generator(val_image_paths, val_mask_paths, batch_size=32, augment=False)], axis=0)\n",
        "    f1 = f1_score(val_true.ravel(), val_preds.ravel() > 0.5)\n",
        "\n",
        "    evaluation_scores[base_model_name] = {'accuracy': history.history['accuracy'][-1], 'f1_score': f1}\n",
        "\n",
        "# Plotting Training Accuracy\n",
        "plt.figure(figsize=(10,6))\n",
        "for model_name, history in training_histories.items():\n",
        "    plt.plot(history['accuracy'], label=f\"{model_name} Training Accuracy\")\n",
        "plt.xlabel('Epochs')\n",
        "plt.ylabel('Accuracy')\n",
        "plt.legend(loc='upper left')\n",
        "plt.title('Training Accuracy Comparison')\n",
        "plt.show()\n",
        "\n",
        "# Plotting Evaluation Metrics\n",
        "models_names = list(evaluation_scores.keys())\n",
        "accuracies = [score['accuracy'] for score in evaluation_scores.values()]\n",
        "f1_scores = [score['f1_score'] for score in evaluation_scores.values()]\n",
        "\n",
        "barWidth = 0.3\n",
        "r1 = np.arange(len(models_names))\n",
        "r2 = [x + barWidth for x in r1]\n",
        "\n",
        "plt.figure(figsize=(10,6))\n",
        "plt.bar(r1, accuracies, width=barWidth, label='Accuracy')\n",
        "plt.bar(r2, f1_scores, width=barWidth, label='F1 Score')\n",
        "plt.xlabel('Models', fontweight='bold')\n",
        "plt.xticks([r + barWidth / 2 for r in range(len(models_names))], models_names)\n",
        "plt.legend(loc='upper left')\n",
        "plt.title('Model Evaluation Comparison')\n",
        "plt.show()"
      ],
      "metadata": {
        "id": "ocO7UwecnSs5"
      },
      "execution_count": null,
      "outputs": []
    },
    {
      "cell_type": "markdown",
      "source": [
        "## **7. Inference on New Images**"
      ],
      "metadata": {
        "id": "qpJG2RUAm0BF"
      }
    },
    {
      "cell_type": "code",
      "source": [
        "# Select the best model based on evaluation scores\n",
        "best_model_name = max(evaluation_scores, key=lambda k: evaluation_scores[k]['f1_score'])\n",
        "best_model = create_segmentation_model(best_model_name, input_shape)\n",
        "\n",
        "# Train the best model on the training set\n",
        "train_gen = data_generator(train_image_paths, train_mask_paths, batch_size=32, augment=True)\n",
        "steps_per_epoch = len(train_image_paths) // 32\n",
        "best_model.fit(train_gen, steps_per_epoch=steps_per_epoch, epochs=10)\n",
        "\n",
        "# Define the Inference function\n",
        "def infer(model, image_path):\n",
        "    image = cv2.imread(image_path)\n",
        "    image = image / 255.0\n",
        "    input_array = np.expand_dims(image, axis=0)\n",
        "    mask_pred = model.predict(input_array)\n",
        "    return mask_pred[0]\n",
        "\n",
        "# List of new image paths for inference\n",
        "new_image_paths = ['path_to_new_image1', 'path_to_new_image2', ...]  # Replace with actual paths\n",
        "\n",
        "# Inference and Plot Results\n",
        "for new_image_path in new_image_paths:\n",
        "    predicted_mask = infer(best_model, new_image_path)\n",
        "    plt.figure(figsize=(10,5))\n",
        "    plt.subplot(1,2,1)\n",
        "    plt.imshow(cv2.imread(new_image_path))\n",
        "    plt.title('Original Image')\n",
        "    plt.subplot(1,2,2)\n",
        "    plt.imshow(predicted_mask.squeeze(), cmap='gray')\n",
        "    plt.title('Predicted Mask')\n",
        "    plt.show()\n"
      ],
      "metadata": {
        "id": "wwxf9NKtJz7u"
      },
      "execution_count": null,
      "outputs": []
    }
  ]
}